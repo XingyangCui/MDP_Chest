{
 "cells": [
  {
   "cell_type": "code",
   "execution_count": null,
   "metadata": {},
   "outputs": [],
   "source": [
    "import os\n",
    "import nibabel as nib\n",
    "import numpy as np\n",
    "\n",
    "# input path\n",
    "label_dir = \"labels\"\n",
    "result_dir = \"predict_results\"\n",
    "\n",
    "# output path\n",
    "out_label_root = \"split_label\"\n",
    "out_result_root = \"split_predict_results\"\n",
    "\n",
    "# label to name mapping\n",
    "def label_to_name(label):\n",
    "    if 1 <= label <= 12:\n",
    "        return f\"rib_left_{label}\"\n",
    "    elif 13 <= label <= 24:\n",
    "        return f\"rib_right_{label - 12}\"\n",
    "    elif label == 25:\n",
    "        return \"sternum\"\n",
    "    elif label == 26:\n",
    "        return \"costal_cartilages\"\n",
    "    else:\n",
    "        return f\"unknown_label_{label}\"\n",
    "\n",
    "\n",
    "# split function (automatically create subdirectories)\n",
    "def split_labels(input_path, output_root):\n",
    "    nii = nib.load(input_path)\n",
    "    data = nii.get_fdata()\n",
    "    unique_labels = np.unique(data).astype(int)\n",
    "\n",
    "    patient_id = os.path.basename(input_path).replace(\".nii.gz\", \"\")\n",
    "    out_dir = os.path.join(output_root, patient_id)\n",
    "    os.makedirs(out_dir, exist_ok=True)\n",
    "\n",
    "    for lbl in unique_labels:\n",
    "        if lbl == 0:\n",
    "            continue  # ignore background\n",
    "        binary_mask = (data == lbl).astype(np.uint8)\n",
    "        out_img = nib.Nifti1Image(binary_mask, nii.affine, nii.header)\n",
    "        out_path = os.path.join(out_dir, f\"{label_to_name(lbl)}.nii.gz\")\n",
    "        nib.save(out_img, out_path)\n",
    "\n",
    "\n",
    "for fname in os.listdir(result_dir):\n",
    "    if fname.endswith(\".nii.gz\"):\n",
    "        split_labels(os.path.join(result_dir, fname), out_result_root)\n"
   ]
  }
 ],
 "metadata": {
  "kernelspec": {
   "display_name": "Python 3",
   "language": "python",
   "name": "python3"
  },
  "language_info": {
   "codemirror_mode": {
    "name": "ipython",
    "version": 3
   },
   "file_extension": ".py",
   "mimetype": "text/x-python",
   "name": "python",
   "nbconvert_exporter": "python",
   "pygments_lexer": "ipython3",
   "version": "3.12.0"
  }
 },
 "nbformat": 4,
 "nbformat_minor": 2
}
