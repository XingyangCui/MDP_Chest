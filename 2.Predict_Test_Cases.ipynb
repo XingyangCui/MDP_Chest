{
 "cells": [
  {
   "cell_type": "markdown",
   "id": "54fa7aa5",
   "metadata": {},
   "source": [
    "# Predicted the results"
   ]
  },
  {
   "cell_type": "code",
   "execution_count": null,
   "id": "bc1fe144",
   "metadata": {},
   "outputs": [
    {
     "name": "stdout",
     "output_type": "stream",
     "text": [
      "nnUNet_raw: /home/cuixing/MDP/Data_Split\n",
      "nnUNet_preprocessed: /home/cuixing/MDP/Data_Preprocessed\n",
      "nnUNet_results: /home/cuixing/MDP/Results\n"
     ]
    }
   ],
   "source": [
    "#setting the path\n",
    "\n",
    "import os\n",
    "\n",
    "# Setting path\n",
    "os.environ[\"nnUNet_raw\"] = \"/home/cuixing/MDP/Data_Split\"\n",
    "os.environ[\"nnUNet_preprocessed\"] = \"/home/cuixing/MDP/Data_Preprocessed\"\n",
    "os.environ[\"nnUNet_results\"] = \"/home/cuixing/MDP/Results\"\n",
    "\n",
    "#check\n",
    "print(\"nnUNet_raw:\", os.environ.get(\"nnUNet_raw\"))\n",
    "print(\"nnUNet_preprocessed:\", os.environ.get(\"nnUNet_preprocessed\"))\n",
    "print(\"nnUNet_results:\", os.environ.get(\"nnUNet_results\"))\n"
   ]
  },
  {
   "cell_type": "code",
   "execution_count": null,
   "id": "f80c4002",
   "metadata": {},
   "outputs": [],
   "source": [
    "import os\n",
    "os.environ[\"nnUNet_raw\"] = \"/scratch/mdp-umtri_project_root/mdp-umtri_project1/cuixing/Data\"\n",
    "os.environ[\"nnUNet_preprocessed\"] = \"/scratch/mdp-umtri_project_root/mdp-umtri_project1/cuixing/Data_Preprocessed\"\n",
    "os.environ[\"nnUNet_results\"] = \"/home/cuixing/MDP/Results\""
   ]
  },
  {
   "cell_type": "code",
   "execution_count": 6,
   "id": "c7ac2ff7",
   "metadata": {},
   "outputs": [
    {
     "name": "stdout",
     "output_type": "stream",
     "text": [
      "\n",
      "#######################################################################\n",
      "Please cite the following paper when using nnU-Net:\n",
      "Isensee, F., Jaeger, P. F., Kohl, S. A., Petersen, J., & Maier-Hein, K. H. (2021). nnU-Net: a self-configuring method for deep learning-based biomedical image segmentation. Nature methods, 18(2), 203-211.\n",
      "#######################################################################\n",
      "\n",
      "There are 14 cases in the source folder\n",
      "I am process 0 out of 1 (max process ID is 0, we start counting with 0!)\n",
      "There are 14 cases that I would like to predict\n",
      "\n",
      "Predicting CF5008:\n",
      "perform_everything_on_device: True\n"
     ]
    },
    {
     "name": "stderr",
     "output_type": "stream",
     "text": [
      "100%|██████████| 216/216 [00:11<00:00, 18.07it/s]\n"
     ]
    },
    {
     "name": "stdout",
     "output_type": "stream",
     "text": [
      "sending off prediction to background worker for resampling and export\n",
      "done with CF5008\n",
      "\n",
      "Predicting CF5009:\n",
      "perform_everything_on_device: True\n"
     ]
    },
    {
     "name": "stderr",
     "output_type": "stream",
     "text": [
      "100%|██████████| 216/216 [00:09<00:00, 21.68it/s]\n"
     ]
    },
    {
     "name": "stdout",
     "output_type": "stream",
     "text": [
      "sending off prediction to background worker for resampling and export\n",
      "done with CF5009\n",
      "\n",
      "Predicting CF5015:\n",
      "perform_everything_on_device: True\n"
     ]
    },
    {
     "name": "stderr",
     "output_type": "stream",
     "text": [
      "100%|██████████| 294/294 [00:13<00:00, 21.71it/s]\n"
     ]
    },
    {
     "name": "stdout",
     "output_type": "stream",
     "text": [
      "sending off prediction to background worker for resampling and export\n",
      "done with CF5015\n",
      "\n",
      "Predicting CF5017:\n",
      "perform_everything_on_device: True\n"
     ]
    },
    {
     "name": "stderr",
     "output_type": "stream",
     "text": [
      "100%|██████████| 216/216 [00:09<00:00, 21.76it/s]\n"
     ]
    },
    {
     "name": "stdout",
     "output_type": "stream",
     "text": [
      "sending off prediction to background worker for resampling and export\n",
      "done with CF5017\n",
      "\n",
      "Predicting CF6008:\n",
      "perform_everything_on_device: True\n"
     ]
    },
    {
     "name": "stderr",
     "output_type": "stream",
     "text": [
      "100%|██████████| 245/245 [00:11<00:00, 21.66it/s]\n"
     ]
    },
    {
     "name": "stdout",
     "output_type": "stream",
     "text": [
      "sending off prediction to background worker for resampling and export\n",
      "done with CF6008\n",
      "\n",
      "Predicting CF6011:\n",
      "perform_everything_on_device: True\n"
     ]
    },
    {
     "name": "stderr",
     "output_type": "stream",
     "text": [
      "100%|██████████| 216/216 [00:09<00:00, 21.71it/s]\n"
     ]
    },
    {
     "name": "stdout",
     "output_type": "stream",
     "text": [
      "sending off prediction to background worker for resampling and export\n",
      "done with CF6011\n",
      "\n",
      "Predicting CF6028:\n",
      "perform_everything_on_device: True\n"
     ]
    },
    {
     "name": "stderr",
     "output_type": "stream",
     "text": [
      "100%|██████████| 216/216 [00:09<00:00, 21.81it/s]\n"
     ]
    },
    {
     "name": "stdout",
     "output_type": "stream",
     "text": [
      "sending off prediction to background worker for resampling and export\n",
      "done with CF6028\n",
      "\n",
      "Predicting CF6031:\n",
      "perform_everything_on_device: True\n"
     ]
    },
    {
     "name": "stderr",
     "output_type": "stream",
     "text": [
      "100%|██████████| 216/216 [00:09<00:00, 21.84it/s]\n"
     ]
    },
    {
     "name": "stdout",
     "output_type": "stream",
     "text": [
      "sending off prediction to background worker for resampling and export\n",
      "done with CF6031\n",
      "\n",
      "Predicting CF7011:\n",
      "perform_everything_on_device: True\n"
     ]
    },
    {
     "name": "stderr",
     "output_type": "stream",
     "text": [
      "100%|██████████| 216/216 [00:09<00:00, 21.65it/s]\n"
     ]
    },
    {
     "name": "stdout",
     "output_type": "stream",
     "text": [
      "sending off prediction to background worker for resampling and export\n",
      "done with CF7011\n",
      "\n",
      "Predicting CM5115:\n",
      "perform_everything_on_device: True\n"
     ]
    },
    {
     "name": "stderr",
     "output_type": "stream",
     "text": [
      "100%|██████████| 216/216 [00:09<00:00, 21.82it/s]\n"
     ]
    },
    {
     "name": "stdout",
     "output_type": "stream",
     "text": [
      "sending off prediction to background worker for resampling and export\n",
      "done with CM5115\n",
      "\n",
      "Predicting CM6116:\n",
      "perform_everything_on_device: True\n"
     ]
    },
    {
     "name": "stderr",
     "output_type": "stream",
     "text": [
      "100%|██████████| 392/392 [00:18<00:00, 21.61it/s]\n"
     ]
    },
    {
     "name": "stdout",
     "output_type": "stream",
     "text": [
      "Prediction on device was unsuccessful, probably due to a lack of memory. Moving results arrays to CPU\n"
     ]
    },
    {
     "name": "stderr",
     "output_type": "stream",
     "text": [
      "100%|██████████| 392/392 [01:25<00:00,  4.60it/s]\n"
     ]
    },
    {
     "name": "stdout",
     "output_type": "stream",
     "text": [
      "sending off prediction to background worker for resampling and export\n",
      "done with CM6116\n",
      "\n",
      "Predicting CM7104:\n",
      "perform_everything_on_device: True\n"
     ]
    },
    {
     "name": "stderr",
     "output_type": "stream",
     "text": [
      "100%|██████████| 245/245 [00:11<00:00, 21.44it/s]\n"
     ]
    },
    {
     "name": "stdout",
     "output_type": "stream",
     "text": [
      "sending off prediction to background worker for resampling and export\n",
      "done with CM7104\n",
      "\n",
      "Predicting CM7109:\n",
      "perform_everything_on_device: True\n"
     ]
    },
    {
     "name": "stderr",
     "output_type": "stream",
     "text": [
      "100%|██████████| 288/288 [00:13<00:00, 21.65it/s]\n"
     ]
    },
    {
     "name": "stdout",
     "output_type": "stream",
     "text": [
      "Prediction on device was unsuccessful, probably due to a lack of memory. Moving results arrays to CPU\n"
     ]
    },
    {
     "name": "stderr",
     "output_type": "stream",
     "text": [
      "100%|██████████| 288/288 [01:05<00:00,  4.38it/s]\n"
     ]
    },
    {
     "name": "stdout",
     "output_type": "stream",
     "text": [
      "sending off prediction to background worker for resampling and export\n",
      "done with CM7109\n",
      "\n",
      "Predicting CM7130:\n",
      "perform_everything_on_device: True\n"
     ]
    },
    {
     "name": "stderr",
     "output_type": "stream",
     "text": [
      "100%|██████████| 392/392 [00:18<00:00, 21.54it/s]\n"
     ]
    },
    {
     "name": "stdout",
     "output_type": "stream",
     "text": [
      "Prediction on device was unsuccessful, probably due to a lack of memory. Moving results arrays to CPU\n"
     ]
    },
    {
     "name": "stderr",
     "output_type": "stream",
     "text": [
      "100%|██████████| 392/392 [01:24<00:00,  4.65it/s]\n"
     ]
    },
    {
     "name": "stdout",
     "output_type": "stream",
     "text": [
      "sending off prediction to background worker for resampling and export\n",
      "done with CM7130\n"
     ]
    },
    {
     "data": {
      "text/plain": [
       "CompletedProcess(args=['nnUNetv2_predict', '-i', '/home/cuixing/MDP/Data_Predict/Test_Data', '-o', '/home/cuixing/MDP/Data_Predict/Predicted_Result/50_Predict', '-d', '50', '-c', '3d_fullres', '-tr', 'nnUNetTrainer', '--disable_tta', '-f', '1', '-chk', 'checkpoint_best.pth'], returncode=0)"
      ]
     },
     "execution_count": 6,
     "metadata": {},
     "output_type": "execute_result"
    }
   ],
   "source": [
    "#mirroring\n",
    "import subprocess\n",
    "\n",
    "command = [\n",
    "    \"nnUNetv2_predict\",\n",
    "    \"-i\", \"/home/cuixing/MDP/Data_Predict/Test_Data\",\n",
    "    \"-o\", \"/home/cuixing/MDP/Data_Predict/Predicted_Result/50_Predict\",\n",
    "    \"-d\", \"50\",\n",
    "    \"-c\", \"3d_fullres\",\n",
    "    \"-tr\", \"nnUNetTrainer\",\n",
    "    \"--disable_tta\",\n",
    "    \"-f\", \"1\",\n",
    "    \"-chk\", \"checkpoint_best.pth\"\n",
    "]\n",
    "\n",
    "subprocess.run(command, check=True)\n"
   ]
  },
  {
   "cell_type": "code",
   "execution_count": 4,
   "id": "62ee95cb",
   "metadata": {},
   "outputs": [
    {
     "name": "stdout",
     "output_type": "stream",
     "text": [
      "\n",
      "#######################################################################\n",
      "Please cite the following paper when using nnU-Net:\n",
      "Isensee, F., Jaeger, P. F., Kohl, S. A., Petersen, J., & Maier-Hein, K. H. (2021). nnU-Net: a self-configuring method for deep learning-based biomedical image segmentation. Nature methods, 18(2), 203-211.\n",
      "#######################################################################\n",
      "\n"
     ]
    },
    {
     "name": "stderr",
     "output_type": "stream",
     "text": [
      "Traceback (most recent call last):\n",
      "  File \"/home/cuixing/.local/bin/nnUNetv2_predict\", line 8, in <module>\n",
      "    sys.exit(predict_entry_point())\n",
      "  File \"/home/cuixing/.local/lib/python3.9/site-packages/nnunetv2/inference/predict_from_raw_data.py\", line 951, in predict_entry_point\n",
      "    predictor.initialize_from_trained_model_folder(\n",
      "  File \"/home/cuixing/.local/lib/python3.9/site-packages/nnunetv2/inference/predict_from_raw_data.py\", line 74, in initialize_from_trained_model_folder\n",
      "    dataset_json = load_json(join(model_training_output_dir, 'dataset.json'))\n",
      "  File \"/home/cuixing/.local/lib/python3.9/site-packages/batchgenerators/utilities/file_and_folder_operations.py\", line 103, in load_json\n",
      "    with open(file, 'r') as f:\n",
      "FileNotFoundError: [Errno 2] No such file or directory: '/home/cuixing/MDP/Results/Dataset050_TotalSegmentator_part_ribs/nnUNetTrainerNoMirroring__nnUNetPlans__3d_fullres/dataset.json'\n"
     ]
    },
    {
     "ename": "CalledProcessError",
     "evalue": "Command '['nnUNetv2_predict', '-i', '/home/cuixing/MDP/Data_Predict/Test_Data', '-o', '/home/cuixing/MDP/Data_Predict/Predicted_Result/50_Predict', '-d', '50', '-c', '3d_fullres', '-tr', 'nnUNetTrainerNoMirroring', '--disable_tta', '-f', '1', '-chk', 'checkpoint_best.pth']' returned non-zero exit status 1.",
     "output_type": "error",
     "traceback": [
      "\u001b[0;31m---------------------------------------------------------------------------\u001b[0m",
      "\u001b[0;31mCalledProcessError\u001b[0m                        Traceback (most recent call last)",
      "\u001b[0;32m/tmp/ipykernel_918458/2560890697.py\u001b[0m in \u001b[0;36m<module>\u001b[0;34m\u001b[0m\n\u001b[1;32m     14\u001b[0m ]\n\u001b[1;32m     15\u001b[0m \u001b[0;34m\u001b[0m\u001b[0m\n\u001b[0;32m---> 16\u001b[0;31m \u001b[0msubprocess\u001b[0m\u001b[0;34m.\u001b[0m\u001b[0mrun\u001b[0m\u001b[0;34m(\u001b[0m\u001b[0mcommand\u001b[0m\u001b[0;34m,\u001b[0m \u001b[0mcheck\u001b[0m\u001b[0;34m=\u001b[0m\u001b[0;32mTrue\u001b[0m\u001b[0;34m)\u001b[0m\u001b[0;34m\u001b[0m\u001b[0;34m\u001b[0m\u001b[0m\n\u001b[0m",
      "\u001b[0;32m/sw/pkgs/arc/python3.9-anaconda/2021.11/lib/python3.9/subprocess.py\u001b[0m in \u001b[0;36mrun\u001b[0;34m(input, capture_output, timeout, check, *popenargs, **kwargs)\u001b[0m\n\u001b[1;32m    526\u001b[0m         \u001b[0mretcode\u001b[0m \u001b[0;34m=\u001b[0m \u001b[0mprocess\u001b[0m\u001b[0;34m.\u001b[0m\u001b[0mpoll\u001b[0m\u001b[0;34m(\u001b[0m\u001b[0;34m)\u001b[0m\u001b[0;34m\u001b[0m\u001b[0;34m\u001b[0m\u001b[0m\n\u001b[1;32m    527\u001b[0m         \u001b[0;32mif\u001b[0m \u001b[0mcheck\u001b[0m \u001b[0;32mand\u001b[0m \u001b[0mretcode\u001b[0m\u001b[0;34m:\u001b[0m\u001b[0;34m\u001b[0m\u001b[0;34m\u001b[0m\u001b[0m\n\u001b[0;32m--> 528\u001b[0;31m             raise CalledProcessError(retcode, process.args,\n\u001b[0m\u001b[1;32m    529\u001b[0m                                      output=stdout, stderr=stderr)\n\u001b[1;32m    530\u001b[0m     \u001b[0;32mreturn\u001b[0m \u001b[0mCompletedProcess\u001b[0m\u001b[0;34m(\u001b[0m\u001b[0mprocess\u001b[0m\u001b[0;34m.\u001b[0m\u001b[0margs\u001b[0m\u001b[0;34m,\u001b[0m \u001b[0mretcode\u001b[0m\u001b[0;34m,\u001b[0m \u001b[0mstdout\u001b[0m\u001b[0;34m,\u001b[0m \u001b[0mstderr\u001b[0m\u001b[0;34m)\u001b[0m\u001b[0;34m\u001b[0m\u001b[0;34m\u001b[0m\u001b[0m\n",
      "\u001b[0;31mCalledProcessError\u001b[0m: Command '['nnUNetv2_predict', '-i', '/home/cuixing/MDP/Data_Predict/Test_Data', '-o', '/home/cuixing/MDP/Data_Predict/Predicted_Result/50_Predict', '-d', '50', '-c', '3d_fullres', '-tr', 'nnUNetTrainerNoMirroring', '--disable_tta', '-f', '1', '-chk', 'checkpoint_best.pth']' returned non-zero exit status 1."
     ]
    }
   ],
   "source": [
    "#nomirroring\n",
    "import subprocess\n",
    "\n",
    "command = [\n",
    "    \"nnUNetv2_predict\",\n",
    "    \"-i\", \"/home/cuixing/MDP/Data_Predict/Test_Data\",\n",
    "    \"-o\", \"/home/cuixing/MDP/Data_Predict/Predicted_Result/50_Predict\",\n",
    "    \"-d\", \"50\",\n",
    "    \"-c\", \"3d_fullres\",\n",
    "    \"-tr\", \"nnUNetTrainerNoMirroring\",\n",
    "    \"--disable_tta\",\n",
    "    \"-f\", \"1\",\n",
    "    \"-chk\", \"checkpoint_best.pth\"\n",
    "]\n",
    "\n",
    "subprocess.run(command, check=True)\n"
   ]
  },
  {
   "cell_type": "code",
   "execution_count": null,
   "id": "55b3e5fb",
   "metadata": {},
   "outputs": [
    {
     "name": "stdout",
     "output_type": "stream",
     "text": [
      "\n",
      "#######################################################################\n",
      "Please cite the following paper when using nnU-Net:\n",
      "Isensee, F., Jaeger, P. F., Kohl, S. A., Petersen, J., & Maier-Hein, K. H. (2021). nnU-Net: a self-configuring method for deep learning-based biomedical image segmentation. Nature methods, 18(2), 203-211.\n",
      "#######################################################################\n",
      "\n",
      "perform_everything_on_device=True is only supported for cuda devices! Setting this to False\n",
      "There are 1 cases in the source folder\n",
      "I am process 0 out of 1 (max process ID is 0, we start counting with 0!)\n",
      "There are 1 cases that I would like to predict\n",
      "\n",
      "Predicting CF7003:\n",
      "perform_everything_on_device: False\n"
     ]
    },
    {
     "name": "stderr",
     "output_type": "stream",
     "text": [
      " 73%|███████▎  | 183/252 [1:24:47<31:40, 27.54s/it]"
     ]
    }
   ],
   "source": [
    "#CPU run\n",
    "command = [\n",
    "    \"nnUNetv2_predict\",\n",
    "    \"-i\", \"/home/cuixing/MDP/Data_Predict/Test_Data\",\n",
    "    \"-o\", \"/home/cuixing/MDP/Data_Predict/Predicted_Result/100_Predict\",\n",
    "    \"-d\", \"100\",\n",
    "    \"-c\", \"3d_fullres\",\n",
    "    \"-tr\", \"nnUNetTrainerNoMirroring\",\n",
    "    \"--disable_tta\",\n",
    "    \"-f\", \"0\",\n",
    "    \"-chk\", \"checkpoint_best.pth\",\n",
    "    \"-device\", \"cpu\"\n",
    "]\n",
    "\n",
    "subprocess.run(command, check=True)"
   ]
  },
  {
   "cell_type": "markdown",
   "id": "dac9c339",
   "metadata": {},
   "source": [
    "# Split the image into stl version"
   ]
  },
  {
   "cell_type": "code",
   "execution_count": null,
   "id": "9387b521",
   "metadata": {},
   "outputs": [
    {
     "name": "stdout",
     "output_type": "stream",
     "text": [
      "🧠 Processing: CF6031.nii.gz\n",
      "  👉 Extracting rib_left_1 (label 1)...\n",
      "    ✅ Saved to: CF6031.nii_rib_left_1.stl\n",
      "  👉 Extracting rib_left_2 (label 2)...\n",
      "    ✅ Saved to: CF6031.nii_rib_left_2.stl\n",
      "  👉 Extracting rib_left_3 (label 3)...\n",
      "    ✅ Saved to: CF6031.nii_rib_left_3.stl\n",
      "  👉 Extracting rib_left_4 (label 4)...\n",
      "    ✅ Saved to: CF6031.nii_rib_left_4.stl\n",
      "  👉 Extracting rib_left_5 (label 5)...\n",
      "    ✅ Saved to: CF6031.nii_rib_left_5.stl\n",
      "  👉 Extracting rib_left_6 (label 6)...\n",
      "    ✅ Saved to: CF6031.nii_rib_left_6.stl\n",
      "  👉 Extracting rib_left_7 (label 7)...\n",
      "    ✅ Saved to: CF6031.nii_rib_left_7.stl\n",
      "  👉 Extracting rib_left_8 (label 8)...\n",
      "    ✅ Saved to: CF6031.nii_rib_left_8.stl\n",
      "  👉 Extracting rib_left_9 (label 9)...\n",
      "    ✅ Saved to: CF6031.nii_rib_left_9.stl\n",
      "  👉 Extracting rib_left_10 (label 10)...\n",
      "    ✅ Saved to: CF6031.nii_rib_left_10.stl\n",
      "  👉 Extracting rib_left_11 (label 11)...\n",
      "    ✅ Saved to: CF6031.nii_rib_left_11.stl\n",
      "  👉 Extracting rib_left_12 (label 12)...\n",
      "    ✅ Saved to: CF6031.nii_rib_left_12.stl\n",
      "  👉 Extracting rib_right_1 (label 13)...\n",
      "    ✅ Saved to: CF6031.nii_rib_right_1.stl\n",
      "  👉 Extracting rib_right_2 (label 14)...\n",
      "    ✅ Saved to: CF6031.nii_rib_right_2.stl\n",
      "  👉 Extracting rib_right_3 (label 15)...\n",
      "    ✅ Saved to: CF6031.nii_rib_right_3.stl\n",
      "  👉 Extracting rib_right_4 (label 16)...\n",
      "    ✅ Saved to: CF6031.nii_rib_right_4.stl\n",
      "  👉 Extracting rib_right_5 (label 17)...\n",
      "    ✅ Saved to: CF6031.nii_rib_right_5.stl\n",
      "  👉 Extracting rib_right_6 (label 18)...\n",
      "    ✅ Saved to: CF6031.nii_rib_right_6.stl\n",
      "  👉 Extracting rib_right_7 (label 19)...\n",
      "    ✅ Saved to: CF6031.nii_rib_right_7.stl\n",
      "  👉 Extracting rib_right_8 (label 20)...\n",
      "    ✅ Saved to: CF6031.nii_rib_right_8.stl\n",
      "  👉 Extracting rib_right_9 (label 21)...\n",
      "    ✅ Saved to: CF6031.nii_rib_right_9.stl\n",
      "  👉 Extracting rib_right_10 (label 22)...\n",
      "    ✅ Saved to: CF6031.nii_rib_right_10.stl\n",
      "  👉 Extracting rib_right_11 (label 23)...\n",
      "    ✅ Saved to: CF6031.nii_rib_right_11.stl\n",
      "  👉 Extracting rib_right_12 (label 24)...\n",
      "    ✅ Saved to: CF6031.nii_rib_right_12.stl\n",
      "  👉 Extracting sternum (label 25)...\n",
      "    ✅ Saved to: CF6031.nii_sternum.stl\n",
      "  👉 Extracting costal_cartilages (label 26)...\n",
      "    ✅ Saved to: CF6031.nii_costal_cartilages.stl\n",
      "finished\n"
     ]
    }
   ],
   "source": [
    "import nibabel as nib\n",
    "import numpy as np\n",
    "from skimage import measure\n",
    "import trimesh\n",
    "import json\n",
    "from pathlib import Path\n",
    "\n",
    "def load_label_map(json_path):\n",
    "    with open(json_path, \"r\") as f:\n",
    "        data = json.load(f)\n",
    "    label_map = {v: k for k, v in data[\"labels\"].items() if k != \"background\"}\n",
    "    return label_map  # {1: 'rib_left_1', 2: 'rib_left_2', ...}\n",
    "\n",
    "def extract_label_to_stl(nifti_path, output_dir, label_map):\n",
    "    print(f\"🧠 Processing: {nifti_path.name}\")\n",
    "    img = nib.load(nifti_path)\n",
    "    data = img.get_fdata()\n",
    "\n",
    "    output_dir.mkdir(parents=True, exist_ok=True)\n",
    "\n",
    "    for label_value, label_name in label_map.items():\n",
    "        print(f\"  👉 Extracting {label_name} (label {label_value})...\")\n",
    "        mask = (data == label_value).astype(np.uint8)\n",
    "        if np.sum(mask) == 0:\n",
    "            print(f\"    ⚠️ No voxels found for label {label_value}, skipping.\")\n",
    "            continue\n",
    "        try:\n",
    "            verts, faces, _, _ = measure.marching_cubes(mask, level=0.5)\n",
    "            mesh = trimesh.Trimesh(vertices=verts, faces=faces)\n",
    "            out_path = output_dir / f\"{nifti_path.stem}_{label_name}.stl\"\n",
    "            mesh.export(str(out_path))\n",
    "            print(f\"    ✅ Saved to: {out_path.name}\")\n",
    "        except Exception as e:\n",
    "            print(f\"    ❌ Failed to extract {label_name}: {e}\")\n",
    "    print(\"finished\")\n",
    "\n",
    "if __name__ == \"__main__\":\n",
    "    # Modify these paths as needed\n",
    "    # (Important !!!) replace with your folder path\n",
    "    pred_nifti = Path(\"/home/cuixing/MDP/Data_Predict/Predicted_Result/50_Predict/CF6031.nii.gz\")  # Modify this to your prediction file path\n",
    "    dataset_json = Path(\"/scratch/mdp-umtri_project_root/mdp-umtri_project1/cuixing/Data_Preprocessed/Dataset050_TotalSegmentator_part_ribs/dataset.json\")  # Modify this to your dataset.json path\n",
    "    output_dir = Path(\"/home/cuixing/MDP/Data_Predict/Predicted_Result/50_Predict/CF6031\")  # Modify this to your desired output path for STL\n",
    "\n",
    "    label_map = load_label_map(dataset_json)\n",
    "    extract_label_to_stl(pred_nifti, output_dir, label_map)\n"
   ]
  },
  {
   "cell_type": "code",
   "execution_count": null,
   "id": "c8db5211",
   "metadata": {},
   "outputs": [],
   "source": []
  }
 ],
 "metadata": {
  "kernelspec": {
   "display_name": "Python 3 (ipykernel)",
   "language": "python",
   "name": "python3"
  },
  "language_info": {
   "codemirror_mode": {
    "name": "ipython",
    "version": 3
   },
   "file_extension": ".py",
   "mimetype": "text/x-python",
   "name": "python",
   "nbconvert_exporter": "python",
   "pygments_lexer": "ipython3",
   "version": "3.9.7"
  }
 },
 "nbformat": 4,
 "nbformat_minor": 5
}
