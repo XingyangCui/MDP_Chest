{
 "cells": [
  {
   "cell_type": "code",
   "execution_count": 3,
   "metadata": {},
   "outputs": [
    {
     "name": "stdout",
     "output_type": "stream",
     "text": [
      "Found labels: [ 1.  2.  3.  4.  5.  6.  7.  8.  9. 10. 11. 12. 13. 14. 15. 16. 17. 18.\n",
      " 19. 20. 21. 22. 23. 24.]\n",
      "✅ Saved: /home/cuixing/MDP/Data_Predict/Predicted_Result/50_Predict/CF6027/rib_left_1.nii.gz\n",
      "✅ Saved: /home/cuixing/MDP/Data_Predict/Predicted_Result/50_Predict/CF6027/rib_left_2.nii.gz\n",
      "✅ Saved: /home/cuixing/MDP/Data_Predict/Predicted_Result/50_Predict/CF6027/rib_left_3.nii.gz\n",
      "✅ Saved: /home/cuixing/MDP/Data_Predict/Predicted_Result/50_Predict/CF6027/rib_left_4.nii.gz\n",
      "✅ Saved: /home/cuixing/MDP/Data_Predict/Predicted_Result/50_Predict/CF6027/rib_left_5.nii.gz\n",
      "✅ Saved: /home/cuixing/MDP/Data_Predict/Predicted_Result/50_Predict/CF6027/rib_left_6.nii.gz\n",
      "✅ Saved: /home/cuixing/MDP/Data_Predict/Predicted_Result/50_Predict/CF6027/rib_left_7.nii.gz\n",
      "✅ Saved: /home/cuixing/MDP/Data_Predict/Predicted_Result/50_Predict/CF6027/rib_left_8.nii.gz\n",
      "✅ Saved: /home/cuixing/MDP/Data_Predict/Predicted_Result/50_Predict/CF6027/rib_left_9.nii.gz\n",
      "✅ Saved: /home/cuixing/MDP/Data_Predict/Predicted_Result/50_Predict/CF6027/rib_left_10.nii.gz\n",
      "✅ Saved: /home/cuixing/MDP/Data_Predict/Predicted_Result/50_Predict/CF6027/rib_left_11.nii.gz\n",
      "✅ Saved: /home/cuixing/MDP/Data_Predict/Predicted_Result/50_Predict/CF6027/rib_left_12.nii.gz\n",
      "✅ Saved: /home/cuixing/MDP/Data_Predict/Predicted_Result/50_Predict/CF6027/rib_right_1.nii.gz\n",
      "✅ Saved: /home/cuixing/MDP/Data_Predict/Predicted_Result/50_Predict/CF6027/rib_right_2.nii.gz\n",
      "✅ Saved: /home/cuixing/MDP/Data_Predict/Predicted_Result/50_Predict/CF6027/rib_right_3.nii.gz\n",
      "✅ Saved: /home/cuixing/MDP/Data_Predict/Predicted_Result/50_Predict/CF6027/rib_right_4.nii.gz\n",
      "✅ Saved: /home/cuixing/MDP/Data_Predict/Predicted_Result/50_Predict/CF6027/rib_right_5.nii.gz\n",
      "✅ Saved: /home/cuixing/MDP/Data_Predict/Predicted_Result/50_Predict/CF6027/rib_right_6.nii.gz\n",
      "✅ Saved: /home/cuixing/MDP/Data_Predict/Predicted_Result/50_Predict/CF6027/rib_right_7.nii.gz\n",
      "✅ Saved: /home/cuixing/MDP/Data_Predict/Predicted_Result/50_Predict/CF6027/rib_right_8.nii.gz\n",
      "✅ Saved: /home/cuixing/MDP/Data_Predict/Predicted_Result/50_Predict/CF6027/rib_right_9.nii.gz\n",
      "✅ Saved: /home/cuixing/MDP/Data_Predict/Predicted_Result/50_Predict/CF6027/rib_right_10.nii.gz\n",
      "✅ Saved: /home/cuixing/MDP/Data_Predict/Predicted_Result/50_Predict/CF6027/rib_right_11.nii.gz\n",
      "✅ Saved: /home/cuixing/MDP/Data_Predict/Predicted_Result/50_Predict/CF6027/rib_right_12.nii.gz\n",
      "finished!!!!\n"
     ]
    }
   ],
   "source": [
    "import nibabel as nib\n",
    "import numpy as np\n",
    "import os\n",
    "\n",
    "# path of input nifti file and output directory\n",
    "TEST_DIR = \"/home/cuixing/MDP/Data_Predict/Test_Data\"\n",
    "input_path = \"/home/cuixing/MDP/Data_Predict/Predicted_Result/50_Predict/*/labeled.nii.gz\"\n",
    "output_dir = \"/home/cuixing/MDP/Data_Predict/Predicted_Result/50_Predict/*\"\n",
    "os.makedirs(output_dir, exist_ok=True)\n",
    "\n",
    "img = nib.load(input_path)\n",
    "data = img.get_fdata()\n",
    "affine = img.affine\n",
    "header = img.header\n",
    "\n",
    "# find all unique labels in the segmentation\n",
    "labels = np.unique(data)\n",
    "labels = labels[labels != 0]\n",
    "\n",
    "print(f\"Found labels: {labels}\")\n",
    "\n",
    "# label to name mapping function\n",
    "def label_to_name(label):\n",
    "    if 1 <= label <= 12:\n",
    "        return f\"rib_left_{label}\"\n",
    "    elif 13 <= label <= 24:\n",
    "        return f\"rib_right_{label - 12}\"\n",
    "    elif label == 25:\n",
    "        return \"sternum\"\n",
    "    elif label == 26:\n",
    "        return \"costal_cartilages\"\n",
    "    else:\n",
    "        return f\"unknown_label_{label}\"\n",
    "\n",
    "# loop through each label and save the corresponding mask\n",
    "for label in labels:\n",
    "    mask = (data == label).astype(np.uint8)\n",
    "    name = label_to_name(int(label))\n",
    "    out_img = nib.Nifti1Image(mask, affine, header)\n",
    "    output_path = os.path.join(output_dir, f\"{name}.nii.gz\")\n",
    "    nib.save(out_img, output_path)\n",
    "    print(f\"✅ Saved: {output_path}\")\n",
    "print(\"finished!!!!\")\n"
   ]
  },
  {
   "cell_type": "code",
   "execution_count": null,
   "metadata": {},
   "outputs": [],
   "source": []
  },
  {
   "cell_type": "code",
   "execution_count": null,
   "metadata": {},
   "outputs": [],
   "source": []
  }
 ],
 "metadata": {
  "kernelspec": {
   "display_name": "Python 3 (ipykernel)",
   "language": "python",
   "name": "python3"
  },
  "language_info": {
   "codemirror_mode": {
    "name": "ipython",
    "version": 3
   },
   "file_extension": ".py",
   "mimetype": "text/x-python",
   "name": "python",
   "nbconvert_exporter": "python",
   "pygments_lexer": "ipython3",
   "version": "3.9.7"
  }
 },
 "nbformat": 4,
 "nbformat_minor": 2
}
