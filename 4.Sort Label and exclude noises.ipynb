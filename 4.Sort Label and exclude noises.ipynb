{
 "cells": [
  {
   "cell_type": "code",
   "execution_count": 3,
   "id": "df27a1e3",
   "metadata": {},
   "outputs": [
    {
     "name": "stdout",
     "output_type": "stream",
     "text": [
      "Unique labels in the segmentation: [ 0  1  2  3  4  5  6  7  8  9 10 11 12 13 14 15 16 17 18 19 20 21 22 23\n",
      " 24 25 26]\n"
     ]
    }
   ],
   "source": [
    "import nibabel as nib\n",
    "import numpy as np\n",
    "import os\n",
    "\n",
    "path = \"CF6028\"\n",
    "nii_path = \"/home/cuixing/MDP/Data_Predict/Predicted_Result/50_Predict/\" + path + \".nii.gz\"\n",
    "\n",
    "img = nib.load(nii_path)\n",
    "data = img.get_fdata()  \n",
    "data = data.astype(np.int16) \n",
    "\n",
    "# print all albel\n",
    "unique_labels = np.unique(data)\n",
    "print(\"Unique labels in the segmentation:\", unique_labels)"
   ]
  },
  {
   "cell_type": "markdown",
   "id": "df47fba6",
   "metadata": {},
   "source": [
    "## 1.Turn all the predict results into binary labels"
   ]
  },
  {
   "cell_type": "code",
   "execution_count": 13,
   "id": "6c26d91a",
   "metadata": {},
   "outputs": [
    {
     "name": "stdout",
     "output_type": "stream",
     "text": [
      "[OK] CF5008: /home/cuixing/MDP/Data_Predict/Predicted_Result/50_Predict/CF5008.nii.gz -> /home/cuixing/MDP/Data_Predict/Predicted_Result/50_Predict/CF5008_binary.nii.gz\n",
      "[OK] CF5009: /home/cuixing/MDP/Data_Predict/Predicted_Result/50_Predict/CF5009.nii.gz -> /home/cuixing/MDP/Data_Predict/Predicted_Result/50_Predict/CF5009_binary.nii.gz\n",
      "[OK] CF5015: /home/cuixing/MDP/Data_Predict/Predicted_Result/50_Predict/CF5015.nii.gz -> /home/cuixing/MDP/Data_Predict/Predicted_Result/50_Predict/CF5015_binary.nii.gz\n",
      "[OK] CF5017: /home/cuixing/MDP/Data_Predict/Predicted_Result/50_Predict/CF5017.nii.gz -> /home/cuixing/MDP/Data_Predict/Predicted_Result/50_Predict/CF5017_binary.nii.gz\n",
      "[OK] CF6008: /home/cuixing/MDP/Data_Predict/Predicted_Result/50_Predict/CF6008.nii.gz -> /home/cuixing/MDP/Data_Predict/Predicted_Result/50_Predict/CF6008_binary.nii.gz\n",
      "[OK] CF6011: /home/cuixing/MDP/Data_Predict/Predicted_Result/50_Predict/CF6011.nii.gz -> /home/cuixing/MDP/Data_Predict/Predicted_Result/50_Predict/CF6011_binary.nii.gz\n",
      "[OK] CF6028: /home/cuixing/MDP/Data_Predict/Predicted_Result/50_Predict/CF6028.nii.gz -> /home/cuixing/MDP/Data_Predict/Predicted_Result/50_Predict/CF6028_binary.nii.gz\n",
      "[OK] CF6031: /home/cuixing/MDP/Data_Predict/Predicted_Result/50_Predict/CF6031.nii.gz -> /home/cuixing/MDP/Data_Predict/Predicted_Result/50_Predict/CF6031_binary.nii.gz\n",
      "[OK] CF7011: /home/cuixing/MDP/Data_Predict/Predicted_Result/50_Predict/CF7011.nii.gz -> /home/cuixing/MDP/Data_Predict/Predicted_Result/50_Predict/CF7011_binary.nii.gz\n",
      "[OK] CM5115: /home/cuixing/MDP/Data_Predict/Predicted_Result/50_Predict/CM5115.nii.gz -> /home/cuixing/MDP/Data_Predict/Predicted_Result/50_Predict/CM5115_binary.nii.gz\n",
      "[OK] CM6116: /home/cuixing/MDP/Data_Predict/Predicted_Result/50_Predict/CM6116.nii.gz -> /home/cuixing/MDP/Data_Predict/Predicted_Result/50_Predict/CM6116_binary.nii.gz\n",
      "[OK] CM7104: /home/cuixing/MDP/Data_Predict/Predicted_Result/50_Predict/CM7104.nii.gz -> /home/cuixing/MDP/Data_Predict/Predicted_Result/50_Predict/CM7104_binary.nii.gz\n",
      "[OK] CM7109: /home/cuixing/MDP/Data_Predict/Predicted_Result/50_Predict/CM7109.nii.gz -> /home/cuixing/MDP/Data_Predict/Predicted_Result/50_Predict/CM7109_binary.nii.gz\n",
      "[OK] CM7130: /home/cuixing/MDP/Data_Predict/Predicted_Result/50_Predict/CM7130.nii.gz -> /home/cuixing/MDP/Data_Predict/Predicted_Result/50_Predict/CM7130_binary.nii.gz\n",
      "done saved=14 missing=0\n"
     ]
    }
   ],
   "source": [
    "import os\n",
    "from glob import glob\n",
    "import nibabel as nib\n",
    "import numpy as np\n",
    "\n",
    "TEST_DIR = \"/home/cuixing/MDP/Data_Predict/Test_Data\"\n",
    "PRED_DIR = \"/home/cuixing/MDP/Data_Predict/Predicted_Result/50_Predict\"\n",
    "DST_DIR = PRED_DIR\n",
    "\n",
    "EXCLUDE_LABELS = (25, 26) # exclude the sturnum and costal cartilage\n",
    "\n",
    "case_ids = sorted({os.path.basename(f).split('_')[0] for f in glob(os.path.join(TEST_DIR, \"*.nii.gz\"))})\n",
    "os.makedirs(DST_DIR, exist_ok=True)\n",
    "\n",
    "def find_pred(case):\n",
    "    p = os.path.join(PRED_DIR, f\"{case}.nii.gz\")\n",
    "    if os.path.exists(p):\n",
    "        return p\n",
    "    candidates = [f for f in glob(os.path.join(PRED_DIR, f\"{case}_*.nii.gz\")) if not f.endswith(\"_binary.nii.gz\")]\n",
    "    return sorted(candidates)[0] if candidates else None\n",
    "\n",
    "ok = miss = 0\n",
    "for case in case_ids:\n",
    "    src = find_pred(case)\n",
    "    if not src:\n",
    "        print(f\"[WARN] {case}: pred not found\")\n",
    "        miss += 1\n",
    "        continue\n",
    "    img = nib.load(src)\n",
    "    data = img.get_fdata()\n",
    "    mask = (data > 0) & (~np.isin(data, EXCLUDE_LABELS))\n",
    "    bin_data = mask.astype(np.uint8)\n",
    "    out_path = os.path.join(DST_DIR, f\"{case}_binary.nii.gz\")\n",
    "    out_img = nib.Nifti1Image(bin_data, img.affine, img.header)\n",
    "    out_img.set_data_dtype(np.uint8)\n",
    "    nib.save(out_img, out_path)\n",
    "    print(f\"[OK] {case}: {src} -> {out_path}\")\n",
    "    ok += 1\n",
    "\n",
    "print(f\"done saved={ok} missing={miss}\")\n"
   ]
  },
  {
   "cell_type": "markdown",
   "id": "e2231e09",
   "metadata": {},
   "source": [
    "## 2.Test some cases and cauculate there dice score as binary label"
   ]
  },
  {
   "cell_type": "code",
   "execution_count": 7,
   "id": "94232c02",
   "metadata": {},
   "outputs": [
    {
     "name": "stdout",
     "output_type": "stream",
     "text": [
      "Foreground voxel count in pred: 1014482\n",
      "Background voxel count in pred: 59791732\n",
      "Foreground voxel count in gt: 956944\n",
      "Background voxel count in gt: 59849270\n"
     ]
    }
   ],
   "source": [
    "path = \"CF6028\"\n",
    "pred_path = os.path.join(\"/home/cuixing/MDP/Data_Predict/Predicted_Result/50_Predict/\", path + \"_binary.nii.gz\")\n",
    "gt_path = os.path.join(\"/home/cuixing/MDP/Ground_Truth\", path, \"merged_gt.nii.gz\")\n",
    "pred = nib.load(pred_path).get_fdata()\n",
    "gt = nib.load(gt_path).get_fdata()\n",
    "\n",
    "pred_count = np.sum(pred > 0)\n",
    "pred_zero_count = np.sum(pred == 0)\n",
    "gt_count = np.sum(gt > 0)\n",
    "gt_zero_count = np.sum(gt == 0)\n",
    "\n",
    "print(\"Foreground voxel count in pred:\", pred_count)\n",
    "print(\"Background voxel count in pred:\", pred_zero_count)\n",
    "print(\"Foreground voxel count in gt:\", gt_count)\n",
    "print(\"Background voxel count in gt:\", gt_zero_count)\n"
   ]
  },
  {
   "cell_type": "code",
   "execution_count": 8,
   "id": "50041d4b",
   "metadata": {},
   "outputs": [
    {
     "name": "stdout",
     "output_type": "stream",
     "text": [
      "Dice Score: 0.9009103055347242\n"
     ]
    }
   ],
   "source": [
    "# cauculate for the total Dice score.\n",
    "def dice_score(y_true, y_pred):\n",
    "    intersection = np.sum((y_true > 0) & (y_pred > 0))\n",
    "    sum_volumes = np.sum(y_true > 0) + np.sum(y_pred > 0)\n",
    "    return (2.0 * intersection) / (sum_volumes + 1e-6)\n",
    "\n",
    "dice = dice_score(gt, pred)\n",
    "print(f\"Dice Score: {dice}\")"
   ]
  },
  {
   "cell_type": "code",
   "execution_count": null,
   "id": "58881f22",
   "metadata": {},
   "outputs": [],
   "source": []
  },
  {
   "cell_type": "code",
   "execution_count": null,
   "id": "42d094bf",
   "metadata": {},
   "outputs": [],
   "source": []
  },
  {
   "cell_type": "code",
   "execution_count": null,
   "id": "df40664b",
   "metadata": {},
   "outputs": [],
   "source": []
  },
  {
   "cell_type": "code",
   "execution_count": null,
   "id": "9abf233c",
   "metadata": {},
   "outputs": [],
   "source": []
  },
  {
   "cell_type": "code",
   "execution_count": 7,
   "id": "2fcfc2ae",
   "metadata": {},
   "outputs": [
    {
     "name": "stdout",
     "output_type": "stream",
     "text": [
      "Detected ribs (connected components): 32\n"
     ]
    }
   ],
   "source": [
    "from scipy.ndimage import label\n",
    "labeled_array, num_features = label(data_new)\n",
    "\n",
    "print(\"Detected ribs (connected components):\", num_features)"
   ]
  },
  {
   "cell_type": "code",
   "execution_count": 8,
   "id": "ed29de33",
   "metadata": {},
   "outputs": [
    {
     "name": "stdout",
     "output_type": "stream",
     "text": [
      "Label 1: Size = 40915 voxels\n",
      "Label 2: Size = 44723 voxels\n",
      "Label 3: Size = 48585 voxels\n",
      "Label 4: Size = 24182 voxels\n",
      "Label 5: Size = 46037 voxels\n",
      "Label 6: Size = 48959 voxels\n",
      "Label 7: Size = 40115 voxels\n",
      "Label 8: Size = 31574 voxels\n",
      "Label 9: Size = 14110 voxels\n",
      "Label 10: Size = 25041 voxels\n",
      "Label 11: Size = 189 voxels\n",
      "Label 12: Size = 20694 voxels\n",
      "Label 13: Size = 4413 voxels\n",
      "Label 14: Size = 2 voxels\n",
      "Label 15: Size = 51968 voxels\n",
      "Label 16: Size = 45877 voxels\n",
      "Label 17: Size = 43472 voxels\n",
      "Label 18: Size = 2 voxels\n",
      "Label 19: Size = 39533 voxels\n",
      "Label 20: Size = 43925 voxels\n",
      "Label 21: Size = 29973 voxels\n",
      "Label 22: Size = 17 voxels\n",
      "Label 23: Size = 4 voxels\n",
      "Label 24: Size = 16876 voxels\n",
      "Label 25: Size = 38394 voxels\n",
      "Label 26: Size = 5459 voxels\n",
      "Label 27: Size = 29088 voxels\n",
      "Label 28: Size = 21469 voxels\n",
      "Label 29: Size = 24441 voxels\n",
      "Label 30: Size = 278 voxels\n",
      "Label 31: Size = 16 voxels\n",
      "Label 32: Size = 5 voxels\n"
     ]
    }
   ],
   "source": [
    "sizes = np.bincount(labeled_array.ravel())\n",
    "for i in range(1, len(sizes)):\n",
    "    print(f\"Label {i}: Size = {sizes[i]} voxels\")"
   ]
  },
  {
   "cell_type": "markdown",
   "id": "e349c37d",
   "metadata": {},
   "source": [
    "# Seperate Label into each ribs."
   ]
  },
  {
   "cell_type": "code",
   "execution_count": null,
   "id": "e1bc8e87",
   "metadata": {},
   "outputs": [
    {
     "name": "stdout",
     "output_type": "stream",
     "text": [
      "[OK] CF5008 -> /home/cuixing/MDP/Data_Predict/Predicted_Result/50_Predict/CF5008\n",
      "[OK] CF5009 -> /home/cuixing/MDP/Data_Predict/Predicted_Result/50_Predict/CF5009\n",
      "[OK] CF5015 -> /home/cuixing/MDP/Data_Predict/Predicted_Result/50_Predict/CF5015\n",
      "[OK] CF5017 -> /home/cuixing/MDP/Data_Predict/Predicted_Result/50_Predict/CF5017\n",
      "[OK] CF6008 -> /home/cuixing/MDP/Data_Predict/Predicted_Result/50_Predict/CF6008\n",
      "[OK] CF6011 -> /home/cuixing/MDP/Data_Predict/Predicted_Result/50_Predict/CF6011\n",
      "[OK] CF6028 -> /home/cuixing/MDP/Data_Predict/Predicted_Result/50_Predict/CF6028\n",
      "[OK] CF6031 -> /home/cuixing/MDP/Data_Predict/Predicted_Result/50_Predict/CF6031\n",
      "[OK] CF7011 -> /home/cuixing/MDP/Data_Predict/Predicted_Result/50_Predict/CF7011\n",
      "[OK] CM5115 -> /home/cuixing/MDP/Data_Predict/Predicted_Result/50_Predict/CM5115\n",
      "[OK] CM6116 -> /home/cuixing/MDP/Data_Predict/Predicted_Result/50_Predict/CM6116\n",
      "[OK] CM7104 -> /home/cuixing/MDP/Data_Predict/Predicted_Result/50_Predict/CM7104\n",
      "[OK] CM7109 -> /home/cuixing/MDP/Data_Predict/Predicted_Result/50_Predict/CM7109\n"
     ]
    }
   ],
   "source": [
    "import os\n",
    "import numpy as np\n",
    "import nibabel as nib\n",
    "from glob import glob\n",
    "from scipy.ndimage import label, center_of_mass\n",
    "\n",
    "TEST_DIR = \"/home/cuixing/MDP/Data_Predict/Test_Data\"\n",
    "BIN_DIR  = \"/home/cuixing/MDP/Data_Predict/Predicted_Result/50_Predict\"\n",
    "\n",
    "def process_case(case):\n",
    "    src = os.path.join(BIN_DIR, f\"{case}_binary.nii.gz\")\n",
    "    if not os.path.exists(src):\n",
    "        print(f\"[MISS] {case}: {src}\"); return False\n",
    "\n",
    "    img = nib.load(src)\n",
    "    data = (img.get_fdata() > 0).astype(np.uint8)\n",
    "\n",
    "    labeled_array, _ = label(data)\n",
    "    sizes = np.bincount(labeled_array.ravel())\n",
    "    if sizes.size <= 1:\n",
    "        print(f\"[EMPTY] {case}\"); return False\n",
    "\n",
    "    comp = sizes[1:]\n",
    "    k = min(24, comp.size)\n",
    "    topk = np.argsort(comp)[-k:][::-1]\n",
    "\n",
    "    filt = np.zeros_like(labeled_array, dtype=np.int16)\n",
    "    for new_lbl, orig_idx in enumerate(topk, start=1):\n",
    "        filt[labeled_array == (orig_idx + 1)] = new_lbl\n",
    "\n",
    "    idxs = np.arange(1, k + 1)\n",
    "    centers = np.array(center_of_mass(filt, labels=filt, index=idxs))  # (x,y,z)\n",
    "\n",
    "    x_med = np.median(centers[:, 0])\n",
    "    left_ids  = np.where(centers[:, 0] <  x_med)[0]\n",
    "    right_ids = np.where(centers[:, 0] >= x_med)[0]\n",
    "\n",
    "    left_sorted  = left_ids[np.argsort(centers[left_ids, 2])[::-1]]   # 按 z 从上到下\n",
    "    right_sorted = right_ids[np.argsort(centers[right_ids, 2])[::-1]]\n",
    "\n",
    "    final = np.zeros_like(filt, dtype=np.int16)\n",
    "    # —— 按你之前的编号：右 1..12，左 13..24 ——\n",
    "    for i, idx in enumerate(right_sorted[:12], start=1):\n",
    "        final[filt == (idx + 1)] = i            # 右 -> 1..12\n",
    "    for i, idx in enumerate(left_sorted[:12], start=1):\n",
    "        final[filt == (idx + 1)] = i + 12       # 左 -> 13..24\n",
    "\n",
    "    save_dir = os.path.join(BIN_DIR, case)\n",
    "    os.makedirs(save_dir, exist_ok=True)\n",
    "\n",
    "    nib.save(nib.Nifti1Image(final, img.affine, img.header), os.path.join(save_dir, \"labeled.nii.gz\"))\n",
    "\n",
    "    for i in range(1, 13):\n",
    "        m = (final == i).astype(np.int16)\n",
    "        if m.any():\n",
    "            nib.save(nib.Nifti1Image(m, img.affine, img.header), os.path.join(save_dir, f\"rib_left_{i}.nii.gz\"))\n",
    "    for i in range(1, 13):\n",
    "        m = (final == i + 12).astype(np.int16)\n",
    "        if m.any():\n",
    "            nib.save(nib.Nifti1Image(m, img.affine, img.header), os.path.join(save_dir, f\"rib_right_{i}.nii.gz\"))\n",
    "\n",
    "    print(f\"[OK] {case} -> {save_dir}\")\n",
    "    return True\n",
    "\n",
    "def process_all():\n",
    "    case_ids = sorted({os.path.basename(f).split('_')[0] for f in glob(os.path.join(TEST_DIR, \"*.nii.gz\"))})\n",
    "    ok = err = 0\n",
    "    for c in case_ids:\n",
    "        try:\n",
    "            ok += 1 if process_case(c) else 0\n",
    "        except Exception as e:\n",
    "            err += 1\n",
    "            print(f\"[ERR] {c}: {e}\")\n",
    "    print(f\"done ok={ok} err={err}\")\n",
    "\n",
    "if __name__ == \"__main__\":\n",
    "    process_all()\n"
   ]
  },
  {
   "cell_type": "code",
   "execution_count": null,
   "id": "b584c731",
   "metadata": {},
   "outputs": [],
   "source": [
    "process_case"
   ]
  },
  {
   "cell_type": "code",
   "execution_count": 9,
   "id": "c71c4735",
   "metadata": {},
   "outputs": [
    {
     "name": "stdout",
     "output_type": "stream",
     "text": [
      "✅ Remaining 24 labels voxel counts:\n",
      "Label  1: 51968 voxels\n",
      "Label  2: 48959 voxels\n",
      "Label  3: 48585 voxels\n",
      "Label  4: 46037 voxels\n",
      "Label  5: 45877 voxels\n",
      "Label  6: 44723 voxels\n",
      "Label  7: 43925 voxels\n",
      "Label  8: 43472 voxels\n",
      "Label  9: 40915 voxels\n",
      "Label 10: 40115 voxels\n",
      "Label 11: 39533 voxels\n",
      "Label 12: 38394 voxels\n",
      "Label 13: 31574 voxels\n",
      "Label 14: 29973 voxels\n",
      "Label 15: 29088 voxels\n",
      "Label 16: 25041 voxels\n",
      "Label 17: 24441 voxels\n",
      "Label 18: 24182 voxels\n",
      "Label 19: 21469 voxels\n",
      "Label 20: 20694 voxels\n",
      "Label 21: 16876 voxels\n",
      "Label 22: 14110 voxels\n",
      "Label 23: 5459 voxels\n",
      "Label 24: 4413 voxels\n",
      "✅ Saved combined anatomical label map: labeled.nii.gz\n",
      "✅ Saved all 24 individual ribs (rib_left_1 ~ rib_right_12)\n"
     ]
    }
   ],
   "source": [
    "# import numpy as np\n",
    "# import nibabel as nib\n",
    "# from scipy.ndimage import label, center_of_mass\n",
    "# import os\n",
    "\n",
    "\n",
    "# # save path\n",
    "# save_dir = f\"/home/cuixing/MDP/Data_Predict/Predicted_Result/50_Predict/{path}\"\n",
    "# os.makedirs(save_dir, exist_ok=True)\n",
    "\n",
    "# # Step 1: aggregation area\n",
    "# labeled_array, num_features = label(data_new)\n",
    "# sizes = np.bincount(labeled_array.ravel())\n",
    "# component_sizes = sizes[1:]\n",
    "# top24_indices = np.argsort(component_sizes)[-24:][::-1]  # volume sort\n",
    "\n",
    "# # Step 2: remain 24 labels\n",
    "# filtered_array = np.zeros_like(labeled_array)\n",
    "# remaining_voxels = {}  # \n",
    "\n",
    "# for new_label, orig_label in enumerate(top24_indices, start=1):\n",
    "#     mask = (labeled_array == (orig_label + 1))\n",
    "#     filtered_array[mask] = new_label\n",
    "#     remaining_voxels[new_label] = mask.sum()  #\n",
    "\n",
    "# # print 24 label voxel\n",
    "# print(\"✅ Remaining 24 labels voxel counts:\")\n",
    "# for lbl, vox_count in remaining_voxels.items():\n",
    "#     print(f\"Label {lbl:2d}: {vox_count} voxels\")\n",
    "\n",
    "\n",
    "# # Step 3: centroid\n",
    "# centers = center_of_mass(filtered_array, labels=filtered_array, index=np.arange(1, 25))\n",
    "# centers = np.array(centers)\n",
    "\n",
    "# # Step 4: \n",
    "# z_median = np.median(centers[:, 0])\n",
    "# left_indices = np.where(centers[:, 0] < z_median)[0]\n",
    "# right_indices = np.where(centers[:, 0] >= z_median)[0]\n",
    "\n",
    "# # Step 5: \n",
    "# left_sorted = left_indices[np.argsort(centers[left_indices, 2])[::-1]]\n",
    "# right_sorted = right_indices[np.argsort(centers[right_indices, 2])[::-1]]\n",
    "\n",
    "\n",
    "# # Step 6: anatomically labeled array（1~12：left；13~24：irght）\n",
    "# final_array = np.zeros_like(filtered_array)\n",
    "\n",
    "# for i, idx in enumerate(left_sorted):    # 1~12\n",
    "#     label_val = i + 13\n",
    "#     final_array[filtered_array == (idx + 1)] = label_val\n",
    "\n",
    "# for i, idx in enumerate(right_sorted):   # left：13~24\n",
    "#     label_val = i + 1\n",
    "#     final_array[filtered_array == (idx + 1)] = label_val\n",
    "\n",
    "# # Step 7: 保存 labeled.nii.gz\n",
    "# sorted_img = nib.Nifti1Image(final_array.astype(np.int16), affine=img.affine, header=img.header)\n",
    "# nib.save(sorted_img, os.path.join(save_dir, \"labeled.nii.gz\"))\n",
    "# print(\"✅ Saved combined anatomical label map: labeled.nii.gz\")\n",
    "\n",
    "# # Step 8: \n",
    "# for i in range(1, 13):\n",
    "#     left_mask = (final_array == i)\n",
    "#     left_img = nib.Nifti1Image(left_mask.astype(np.int16), affine=img.affine, header=img.header)\n",
    "#     nib.save(left_img, os.path.join(save_dir, f\"rib_left_{i}.nii.gz\"))\n",
    "\n",
    "# for i in range(1, 13):\n",
    "#     right_mask = (final_array == i + 12)\n",
    "#     right_img = nib.Nifti1Image(right_mask.astype(np.int16), affine=img.affine, header=img.header)\n",
    "#     nib.save(right_img, os.path.join(save_dir, f\"rib_right_{i}.nii.gz\"))\n",
    "\n",
    "# print(\"✅ Saved all 24 individual ribs (rib_left_1 ~ rib_right_12)\")\n"
   ]
  },
  {
   "cell_type": "code",
   "execution_count": 15,
   "id": "b887bd6b",
   "metadata": {},
   "outputs": [
    {
     "name": "stdout",
     "output_type": "stream",
     "text": [
      "[[321.34821429 223.30822814 121.96944273]\n",
      " [ 96.05322821 223.20231214 174.68976082]\n",
      " [ 78.68572605 233.73570032 112.52310384]\n",
      " [ 87.94808524 229.81360645 144.65356127]\n",
      " [315.29457026 219.39636419 150.85851298]\n",
      " [ 81.11119558 261.56442994  98.26270599]\n",
      " [315.54372225 212.69343199 178.45746158]\n",
      " [318.30587505 246.8756671  109.69755245]\n",
      " [ 90.7164854  283.59063913  81.60437492]\n",
      " [101.0913374  214.87107067 201.8503303 ]\n",
      " [312.08084385 265.24493461  89.39584651]\n",
      " [310.14431942 206.7929364  207.08186175]\n",
      " [111.79391271 206.53515551 234.97497941]\n",
      " [303.89613986 280.55583358  61.71751243]\n",
      " [304.11166117 200.10753575 235.32838284]\n",
      " [127.54742223 193.40062298 265.65512559]\n",
      " [290.76461683 194.59715233 264.4976474 ]\n",
      " [108.94032752 298.2644529   58.00930444]\n",
      " [268.08505287 176.96688248 277.27560669]\n",
      " [150.14820721 176.70634    280.43181599]\n",
      " [278.50711069 289.65376867  40.71207632]\n",
      " [134.91148122 301.6080085   37.36286322]\n",
      " [241.62758747 275.66275875  15.89210478]\n",
      " [168.61318831 280.1969182   15.61545434]]\n"
     ]
    }
   ],
   "source": [
    "print(centers)"
   ]
  },
  {
   "cell_type": "code",
   "execution_count": 16,
   "id": "640f3102",
   "metadata": {},
   "outputs": [
    {
     "data": {
      "text/plain": [
       "133.3115019999642"
      ]
     },
     "execution_count": 16,
     "metadata": {},
     "output_type": "execute_result"
    }
   ],
   "source": [
    "x_median"
   ]
  },
  {
   "cell_type": "code",
   "execution_count": 18,
   "id": "ce1dcec4",
   "metadata": {},
   "outputs": [
    {
     "data": {
      "text/plain": [
       "array([ 2,  5,  8, 17, 21, 23, 22, 20, 13, 10,  7,  0])"
      ]
     },
     "execution_count": 18,
     "metadata": {},
     "output_type": "execute_result"
    }
   ],
   "source": [
    "left_sorted\n"
   ]
  },
  {
   "cell_type": "code",
   "execution_count": null,
   "id": "eda6ed76",
   "metadata": {},
   "outputs": [],
   "source": []
  }
 ],
 "metadata": {
  "kernelspec": {
   "display_name": "Python 3 (ipykernel)",
   "language": "python",
   "name": "python3"
  },
  "language_info": {
   "codemirror_mode": {
    "name": "ipython",
    "version": 3
   },
   "file_extension": ".py",
   "mimetype": "text/x-python",
   "name": "python",
   "nbconvert_exporter": "python",
   "pygments_lexer": "ipython3",
   "version": "3.9.7"
  }
 },
 "nbformat": 4,
 "nbformat_minor": 5
}
